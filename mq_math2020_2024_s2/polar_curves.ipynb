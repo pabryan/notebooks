{
 "cells": [
  {
   "cell_type": "markdown",
   "id": "720a3fd9",
   "metadata": {
    "tags": [
     "noexport"
    ]
   },
   "source": [
    "# Export settings\n",
    "\n",
    "When exporting to html, get plotly.js from CDN rather than including in the html export. Saves some space. Also use dark theme."
   ]
  },
  {
   "cell_type": "code",
   "execution_count": 1,
   "id": "28e505be",
   "metadata": {
    "tags": [
     "noexport"
    ]
   },
   "outputs": [],
   "source": [
    "import plotly.io as pio\n",
    "pio.renderers.default = \"iframe\"\n",
    "pio.templates.default  = \"plotly_dark\""
   ]
  },
  {
   "cell_type": "markdown",
   "id": "b3851155",
   "metadata": {
    "tags": [
     "noexport"
    ]
   },
   "source": [
    "# Imports\n",
    "\n",
    "Import some libraries"
   ]
  },
  {
   "cell_type": "code",
   "execution_count": 2,
   "id": "2b62fbb5",
   "metadata": {
    "tags": [
     "noexport"
    ]
   },
   "outputs": [],
   "source": [
    "import numpy as np\n",
    "from sympy import *\n",
    "import plotly.express as px\n",
    "import plotly.graph_objects as go\n",
    "from plotly.subplots import make_subplots"
   ]
  },
  {
   "cell_type": "markdown",
   "id": "3c6d0a59",
   "metadata": {
    "tags": [
     "noexport"
    ]
   },
   "source": [
    "# The polar_plot function\n",
    "\n",
    "Below we define the polar_plot function. Feel free to take a look - currently it lacks any kind of documentation though!"
   ]
  },
  {
   "cell_type": "code",
   "execution_count": 3,
   "id": "d2a3a04b",
   "metadata": {
    "tags": [
     "noexport"
    ]
   },
   "outputs": [],
   "source": [
    "animation_opts = dict(frame=dict(duration=10, redraw=False),                                                \n",
    "                         transition=dict(duration=0),\n",
    "                         easing='linear',\n",
    "                         fromcurrent=True,\n",
    "                         mode='immediate')\n",
    "def get_range(a):\n",
    "    amin = np.min(a)\n",
    "    amax = np.max(a)\n",
    "    pad = 0.05 * (amax - amin)\n",
    "    return [amin - pad, amax + pad]\n",
    "\n",
    "def polar_plot(f):\n",
    "    theta_vals = np.linspace(0, 2*np.pi, 1000)\n",
    "    \n",
    "    if f.is_constant():\n",
    "        r_vals = np.full_like(theta_vals, N(f))\n",
    "    else:\n",
    "        flambda = lambdify(tuple(f.free_symbols), f)\n",
    "        r_vals = flambda(theta_vals)\n",
    "    \n",
    "    x_vals = r_vals * np.cos(theta_vals)\n",
    "    y_vals = r_vals * np.sin(theta_vals)\n",
    "\n",
    "    xy_title =  r\"$(x, y) = [\" + latex(f) + r\"]\\, * \\,(\\cos\\theta, \\sin\\theta)$\"\n",
    "    rtheta_title =  r\"$r = \" + latex(f) + r\"$\"\n",
    "    fig = make_subplots(rows=2, cols = 1, subplot_titles = (xy_title, rtheta_title), row_heights=[0.8, 0.2], vertical_spacing = 0.15)\n",
    "    \n",
    "    fig.update_xaxes(range = get_range(x_vals), showticklabels=False, row=1, col = 1)\n",
    "    fig.update_yaxes(range = get_range(y_vals), showticklabels=False, scaleanchor = \"x1\", scaleratio = 1, row=1, col=1)\n",
    "    fig.add_trace(go.Scatter(x=x_vals, y=y_vals, mode=\"lines\", line={\"color\" : \"blue\"}), row=1, col=1)\n",
    "    fig.add_trace(go.Scatter(x=[x_vals[0]], y=[y_vals[0]], mode=\"markers\", marker={\"color\" : \"red\", \"size\" : 10}), row=1, col=1)    \n",
    "    fig.add_trace(go.Scatter(x=[0, x_vals[0]], y = [0, y_vals[0]], mode=\"lines\", line={\"color\": \"red\"}), row=1, col=1)\n",
    "    \n",
    "    fig.update_xaxes(range = get_range(theta_vals), showticklabels=False, row=2, col = 1)\n",
    "    fig.update_yaxes(range = get_range(r_vals), showticklabels=False, scaleanchor = \"x2\", scaleratio = 1, row=2, col=1)\n",
    "    fig.add_trace(go.Scatter(x=theta_vals, y=r_vals, mode=\"lines\", line={\"color\" : \"red\"}), row=2, col=1)\n",
    "    fig.add_trace(go.Scatter(x=[theta_vals[0]], y=[r_vals[0]], mode=\"markers\", marker={\"color\" : \"red\", \"size\" : 10}), row=2, col=1)\n",
    "    \n",
    "    fig.update_layout(showlegend=False, width=400, height=600)\n",
    "        \n",
    "    fig.layout.annotations[0][\"y\"] += 0.05\n",
    "    fig.layout.annotations[1][\"y\"] += 0.05\n",
    "    \n",
    "    L = len(theta_vals)\n",
    "    frames = [go.Frame(name = k, \n",
    "                       data = [go.Scatter(x=[x_vals[k]], y=[y_vals[k]]),\n",
    "                               go.Scatter(x=[0, x_vals[k]], y=[0, y_vals[k]]),\n",
    "                               go.Scatter(x=[theta_vals[k]], y=[r_vals[k]])], \n",
    "                       traces = [1, 2, 4]) for k in range(L)]\n",
    "    fig.update(frames = frames)\n",
    "    \n",
    "    buttons = [dict(label=\"Play\", method=\"animate\", args=[None, animation_opts])]\n",
    "    menus = [dict(type=\"buttons\", buttons=buttons)]                                                \n",
    "    fig.update_layout(updatemenus = menus)\n",
    "    \n",
    "    return fig\n",
    "\n",
    "def show(fig):\n",
    "    fig.show(auto_play=True, include_plotlyjs = \"cdn\", animation_opts=animation_opts)"
   ]
  },
  {
   "cell_type": "markdown",
   "id": "53bff531",
   "metadata": {
    "tags": [
     "noexport"
    ]
   },
   "source": [
    "# Create a symbolic variable\n",
    "\n",
    "Our functions will be symbolic expressions. These are defined using sympy. Here we create a symbol for the independent variable of our radial function \\(r = f(\\theta)\\). Then we can use any sympy expression involving \\(\\theta\\) to build our functions."
   ]
  },
  {
   "cell_type": "code",
   "execution_count": 4,
   "id": "3e0e6c95",
   "metadata": {
    "tags": [
     "noexport"
    ]
   },
   "outputs": [],
   "source": [
    "theta = symbols('\\\\theta')"
   ]
  },
  {
   "cell_type": "markdown",
   "id": "9a6e38cd",
   "metadata": {},
   "source": [
    "# Constant Function\n",
    "\n",
    "$f(\\theta) = 1$"
   ]
  },
  {
   "cell_type": "code",
   "execution_count": 5,
   "id": "4d970265",
   "metadata": {},
   "outputs": [
    {
     "data": {
      "text/html": [
       "<iframe\n",
       "    scrolling=\"no\"\n",
       "    width=\"420px\"\n",
       "    height=\"620\"\n",
       "    src=\"iframe_figures/figure_5.html\"\n",
       "    frameborder=\"0\"\n",
       "    allowfullscreen\n",
       "></iframe>\n"
      ]
     },
     "metadata": {},
     "output_type": "display_data"
    }
   ],
   "source": [
    "f = simplify(1)\n",
    "fig = polar_plot(f)\n",
    "show(fig)"
   ]
  },
  {
   "cell_type": "markdown",
   "id": "a64c72c2",
   "metadata": {},
   "source": [
    "# Limaçon\n",
    "\n",
    "$f(\\theta) = 1.3 + \\cos(\\theta)$"
   ]
  },
  {
   "cell_type": "code",
   "execution_count": 6,
   "id": "cbb558f0",
   "metadata": {},
   "outputs": [
    {
     "data": {
      "text/html": [
       "<iframe\n",
       "    scrolling=\"no\"\n",
       "    width=\"420px\"\n",
       "    height=\"620\"\n",
       "    src=\"iframe_figures/figure_6.html\"\n",
       "    frameborder=\"0\"\n",
       "    allowfullscreen\n",
       "></iframe>\n"
      ]
     },
     "metadata": {},
     "output_type": "display_data"
    }
   ],
   "source": [
    "f = 1.3 + cos(theta)\n",
    "fig = polar_plot(f)\n",
    "show(fig)"
   ]
  },
  {
   "cell_type": "markdown",
   "id": "b3ea03b8",
   "metadata": {},
   "source": [
    "# Cardiod\n",
    "\n",
    "$f(\\theta) = 1 - \\cos(\\theta)$"
   ]
  },
  {
   "cell_type": "code",
   "execution_count": 7,
   "id": "bdf698f1",
   "metadata": {
    "scrolled": false
   },
   "outputs": [
    {
     "data": {
      "text/html": [
       "<iframe\n",
       "    scrolling=\"no\"\n",
       "    width=\"420px\"\n",
       "    height=\"620\"\n",
       "    src=\"iframe_figures/figure_7.html\"\n",
       "    frameborder=\"0\"\n",
       "    allowfullscreen\n",
       "></iframe>\n"
      ]
     },
     "metadata": {},
     "output_type": "display_data"
    }
   ],
   "source": [
    "f = 1 - cos(theta)\n",
    "fig = polar_plot(f)\n",
    "show(fig)"
   ]
  },
  {
   "cell_type": "markdown",
   "id": "7f2c2d31",
   "metadata": {},
   "source": [
    "# Two loop Limaçon\n",
    "\n",
    "$f(\\theta) = 1 + 3 \\cos(\\theta)$"
   ]
  },
  {
   "cell_type": "code",
   "execution_count": 8,
   "id": "958a92ce",
   "metadata": {},
   "outputs": [
    {
     "data": {
      "text/html": [
       "<iframe\n",
       "    scrolling=\"no\"\n",
       "    width=\"420px\"\n",
       "    height=\"620\"\n",
       "    src=\"iframe_figures/figure_8.html\"\n",
       "    frameborder=\"0\"\n",
       "    allowfullscreen\n",
       "></iframe>\n"
      ]
     },
     "metadata": {},
     "output_type": "display_data"
    }
   ],
   "source": [
    "f = 1 + 3*cos(theta)\n",
    "fig = polar_plot(f)\n",
    "show(fig)"
   ]
  },
  {
   "cell_type": "markdown",
   "id": "bd8512a9",
   "metadata": {},
   "source": [
    "# Spiral\n",
    "\n",
    "$f(\\theta) = \\theta$"
   ]
  },
  {
   "cell_type": "code",
   "execution_count": 9,
   "id": "babbcceb",
   "metadata": {
    "scrolled": true
   },
   "outputs": [
    {
     "data": {
      "text/html": [
       "<iframe\n",
       "    scrolling=\"no\"\n",
       "    width=\"420px\"\n",
       "    height=\"620\"\n",
       "    src=\"iframe_figures/figure_9.html\"\n",
       "    frameborder=\"0\"\n",
       "    allowfullscreen\n",
       "></iframe>\n"
      ]
     },
     "metadata": {},
     "output_type": "display_data"
    }
   ],
   "source": [
    "f = theta\n",
    "fig = polar_plot(f)\n",
    "show(fig)"
   ]
  },
  {
   "cell_type": "markdown",
   "id": "202f93b6",
   "metadata": {},
   "source": [
    "# Multi-leaved flower\n",
    "\n",
    "$f(\\theta) = \\sin(2\\theta) \\cos(2\\theta)$"
   ]
  },
  {
   "cell_type": "code",
   "execution_count": 10,
   "id": "fc0145f6",
   "metadata": {
    "scrolled": true
   },
   "outputs": [
    {
     "data": {
      "text/html": [
       "<iframe\n",
       "    scrolling=\"no\"\n",
       "    width=\"420px\"\n",
       "    height=\"620\"\n",
       "    src=\"iframe_figures/figure_10.html\"\n",
       "    frameborder=\"0\"\n",
       "    allowfullscreen\n",
       "></iframe>\n"
      ]
     },
     "metadata": {},
     "output_type": "display_data"
    }
   ],
   "source": [
    "f = sin(2*theta)*cos(2*theta)\n",
    "fig = polar_plot(f)\n",
    "show(fig)"
   ]
  },
  {
   "cell_type": "markdown",
   "id": "6796f616",
   "metadata": {},
   "source": [
    "# Cartoon Face\n",
    "\n",
    "$f(\\theta) = \\sin(2^{\\theta}) - 1.7$\n",
    "\n",
    "Function definition from https://www.intmath.com/plane-analytic-geometry/8-curves-polar-coordinates.php"
   ]
  },
  {
   "cell_type": "code",
   "execution_count": 11,
   "id": "7b9e45c5",
   "metadata": {},
   "outputs": [
    {
     "data": {
      "text/html": [
       "<iframe\n",
       "    scrolling=\"no\"\n",
       "    width=\"420px\"\n",
       "    height=\"620\"\n",
       "    src=\"iframe_figures/figure_11.html\"\n",
       "    frameborder=\"0\"\n",
       "    allowfullscreen\n",
       "></iframe>\n"
      ]
     },
     "metadata": {},
     "output_type": "display_data"
    }
   ],
   "source": [
    "f = sin(2**theta) - 1.7\n",
    "fig = polar_plot(f)\n",
    "show(fig)"
   ]
  }
 ],
 "metadata": {
  "celltoolbar": "Tags",
  "kernelspec": {
   "display_name": "Python 3 (ipykernel)",
   "language": "python",
   "name": "python3"
  },
  "language_info": {
   "codemirror_mode": {
    "name": "ipython",
    "version": 3
   },
   "file_extension": ".py",
   "mimetype": "text/x-python",
   "name": "python",
   "nbconvert_exporter": "python",
   "pygments_lexer": "ipython3",
   "version": "3.11.2"
  }
 },
 "nbformat": 4,
 "nbformat_minor": 5
}
